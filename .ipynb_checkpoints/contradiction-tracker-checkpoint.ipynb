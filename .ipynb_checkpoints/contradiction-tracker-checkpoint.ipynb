{
 "cells": [
  {
   "cell_type": "code",
   "execution_count": 1,
   "metadata": {},
   "outputs": [],
   "source": [
    "import pandas as pd\n",
    "import numpy as np"
   ]
  },
  {
   "cell_type": "markdown",
   "metadata": {},
   "source": [
    "# Data Preprocessing"
   ]
  },
  {
   "cell_type": "code",
   "execution_count": 2,
   "metadata": {},
   "outputs": [],
   "source": [
    "sheet_url = \"https://docs.google.com/spreadsheets/d/14wWcmq6UDE1glaSDZyYgCluXbShqZQkZqIia2Cwu5js/edit#gid=0\"\n",
    "url = sheet_url.replace(\"/edit#gid=\", \"/export?format=csv&gid=\")\n",
    "\n",
    "df=pd.read_csv(url)"
   ]
  },
  {
   "cell_type": "code",
   "execution_count": 3,
   "metadata": {},
   "outputs": [],
   "source": [
    "df=df.iloc[:,1:]\n",
    "edge=df[['Short Question','Short Answer']]"
   ]
  },
  {
   "cell_type": "code",
   "execution_count": 4,
   "metadata": {},
   "outputs": [],
   "source": [
    "# set([node  for edge in edge[edge['Short Question']==q].values for node in edge])"
   ]
  },
  {
   "cell_type": "code",
   "execution_count": 5,
   "metadata": {},
   "outputs": [],
   "source": [
    "# node[node['index'].isin(set([node  for edge in edge[edge['Short Question']==q].values for node in edge]))]"
   ]
  },
  {
   "cell_type": "markdown",
   "metadata": {},
   "source": [
    "## Make two node datasets"
   ]
  },
  {
   "cell_type": "code",
   "execution_count": 6,
   "metadata": {},
   "outputs": [],
   "source": [
    "temp_question_node=df[['Short Question','Question','Impact']].drop_duplicates()"
   ]
  },
  {
   "cell_type": "code",
   "execution_count": 7,
   "metadata": {},
   "outputs": [
    {
     "data": {
      "text/html": [
       "<div>\n",
       "<style scoped>\n",
       "    .dataframe tbody tr th:only-of-type {\n",
       "        vertical-align: middle;\n",
       "    }\n",
       "\n",
       "    .dataframe tbody tr th {\n",
       "        vertical-align: top;\n",
       "    }\n",
       "\n",
       "    .dataframe thead th {\n",
       "        text-align: right;\n",
       "    }\n",
       "</style>\n",
       "<table border=\"1\" class=\"dataframe\">\n",
       "  <thead>\n",
       "    <tr style=\"text-align: right;\">\n",
       "      <th></th>\n",
       "      <th>Short Answer</th>\n",
       "      <th>Answer</th>\n",
       "      <th>Name</th>\n",
       "      <th>Citation Link</th>\n",
       "      <th>Citation Detail</th>\n",
       "      <th>Note</th>\n",
       "    </tr>\n",
       "  </thead>\n",
       "  <tbody>\n",
       "    <tr>\n",
       "      <th>0</th>\n",
       "      <td>CR: Late Oct</td>\n",
       "      <td>Later in Oct</td>\n",
       "      <td>Colby Ryan</td>\n",
       "      <td>bit.ly/justin-colby</td>\n",
       "      <td>0:27:07</td>\n",
       "      <td>NaN</td>\n",
       "    </tr>\n",
       "    <tr>\n",
       "      <th>1</th>\n",
       "      <td>CR: Mid Sep</td>\n",
       "      <td>Mid Sep</td>\n",
       "      <td>Colby Ryan</td>\n",
       "      <td>dailym.ai/2xbC4nS</td>\n",
       "      <td>0:02:21</td>\n",
       "      <td>NaN</td>\n",
       "    </tr>\n",
       "    <tr>\n",
       "      <th>2</th>\n",
       "      <td>MP: Tylee Was Abused</td>\n",
       "      <td>\"The court systems haven’t protected her, and ...</td>\n",
       "      <td>Melani Pawlowski</td>\n",
       "      <td>bit.ly/ein-paw2</td>\n",
       "      <td>0:00:43</td>\n",
       "      <td>NaN</td>\n",
       "    </tr>\n",
       "    <tr>\n",
       "      <th>3</th>\n",
       "      <td>CR: Tylee Wasn't Abused</td>\n",
       "      <td>Keith Morrison: “What about Tylee? Was he a go...</td>\n",
       "      <td>Colby Ryan</td>\n",
       "      <td>bit.ly/jjt-video-dashboard</td>\n",
       "      <td>Video removed by NBC</td>\n",
       "      <td>NaN</td>\n",
       "    </tr>\n",
       "    <tr>\n",
       "      <th>4</th>\n",
       "      <td>MG: BYU</td>\n",
       "      <td>Dateline: What Happened to JJ and Tylee? \\n\\n\"...</td>\n",
       "      <td>Melanie Gibb</td>\n",
       "      <td>bit.ly/jjt-video-dashboard</td>\n",
       "      <td>Video removed by NBC</td>\n",
       "      <td>NaN</td>\n",
       "    </tr>\n",
       "  </tbody>\n",
       "</table>\n",
       "</div>"
      ],
      "text/plain": [
       "              Short Answer                                             Answer  \\\n",
       "0             CR: Late Oct                                       Later in Oct   \n",
       "1              CR: Mid Sep                                            Mid Sep   \n",
       "2     MP: Tylee Was Abused  \"The court systems haven’t protected her, and ...   \n",
       "3  CR: Tylee Wasn't Abused  Keith Morrison: “What about Tylee? Was he a go...   \n",
       "4                  MG: BYU  Dateline: What Happened to JJ and Tylee? \\n\\n\"...   \n",
       "\n",
       "               Name               Citation Link       Citation Detail Note  \n",
       "0        Colby Ryan         bit.ly/justin-colby               0:27:07  NaN  \n",
       "1        Colby Ryan           dailym.ai/2xbC4nS               0:02:21  NaN  \n",
       "2  Melani Pawlowski             bit.ly/ein-paw2               0:00:43  NaN  \n",
       "3        Colby Ryan  bit.ly/jjt-video-dashboard  Video removed by NBC  NaN  \n",
       "4      Melanie Gibb  bit.ly/jjt-video-dashboard  Video removed by NBC  NaN  "
      ]
     },
     "execution_count": 7,
     "metadata": {},
     "output_type": "execute_result"
    }
   ],
   "source": [
    "temp_answer_node=df[['Short Answer', 'Answer', 'Name', 'Citation Link', 'Citation Detail', 'Note']].drop_duplicates()\n",
    "\n",
    "temp_answer_node.head()"
   ]
  },
  {
   "cell_type": "markdown",
   "metadata": {},
   "source": [
    "## Rename columns so they can be concatnated into one column"
   ]
  },
  {
   "cell_type": "code",
   "execution_count": 8,
   "metadata": {},
   "outputs": [],
   "source": [
    "temp_question_node=temp_question_node.rename(columns={'Short Question':'index',\n",
    "                                                     'Impact':'size'})\n",
    "temp_question_node['level']=1"
   ]
  },
  {
   "cell_type": "code",
   "execution_count": 9,
   "metadata": {},
   "outputs": [],
   "source": [
    "temp_answer_node=temp_answer_node.rename(columns={'Short Answer':'index'})\n",
    "temp_answer_node['level']=20"
   ]
  },
  {
   "cell_type": "markdown",
   "metadata": {},
   "source": [
    "## Bind the datasets"
   ]
  },
  {
   "cell_type": "code",
   "execution_count": 10,
   "metadata": {},
   "outputs": [],
   "source": [
    "node=pd.concat([temp_question_node, temp_answer_node]).reset_index()"
   ]
  },
  {
   "cell_type": "markdown",
   "metadata": {},
   "source": [
    "## assign default size for the answer nodes"
   ]
  },
  {
   "cell_type": "code",
   "execution_count": 11,
   "metadata": {},
   "outputs": [],
   "source": [
    "node['size']=node['size']*12\n",
    "node['size']=node['size'].fillna(15)"
   ]
  },
  {
   "cell_type": "code",
   "execution_count": 12,
   "metadata": {},
   "outputs": [],
   "source": [
    "# for ind, row in node.iterrows():\n",
    "#     if pd.isna(row['title']):\n",
    "#         node.loc[ind, 'title']=row['Name']+'<br>'+str(row['Answer'])"
   ]
  },
  {
   "cell_type": "markdown",
   "metadata": {},
   "source": [
    "## Create HTML for the hovering label"
   ]
  },
  {
   "cell_type": "code",
   "execution_count": 13,
   "metadata": {},
   "outputs": [],
   "source": [
    "for ind, row in node.iterrows():\n",
    "#     print(row['index'])\n",
    "    if not pd.isna(row['Question']):\n",
    "#         print(f'<strong>Question</strong>: <p>{row[\"Question\"]}</p>')\n",
    "        node.loc[ind, 'title']=f'<strong>Question</strong>:  <p>{row[\"Question\"]}</p>'\n",
    "#         node.loc[ind, 'title']=row[\"Question\"]\n",
    "#         print(node.loc[ind, 'title'])\n",
    "    else:\n",
    "#         print(f'<strong>Answer</strong>: {row[\"Answer\"]}</p> <br><strong>Name</strong>: {row[\"Name\"]}</p> <br> <strong>Citation Link</strong>: {row[\"Citation Link\"]}</p> <br> <strong>Citation Detail</strong>: {row[\"Citation Detail\"]}</p> <br>')\n",
    "        node.loc[ind, 'title']=f'<strong>Answer</strong>: <p>{row[\"Answer\"]}</p> <strong>Name</strong>:<p> {row[\"Name\"]}</p> <strong>Citation Link</strong>: <p><a target=\"_tab\" href=\"https://{row[\"Citation Link\"]}\">{row[\"Citation Link\"]}</a></p> <strong>Citation Detail</strong>: <p>{row[\"Citation Detail\"]}</p>'\n",
    "        \n",
    "    \n",
    "    "
   ]
  },
  {
   "cell_type": "markdown",
   "metadata": {},
   "source": [
    "## Group answers and questiosn into one group"
   ]
  },
  {
   "cell_type": "code",
   "execution_count": 14,
   "metadata": {},
   "outputs": [],
   "source": [
    "for ind, q in enumerate(edge['Short Question'].unique()):\n",
    "    \n",
    "    node.loc[node['index'].isin(set([node  for edge in edge[edge['Short Question']==q].values for node in edge])),\n",
    "            'group']=ind"
   ]
  },
  {
   "cell_type": "code",
   "execution_count": null,
   "metadata": {},
   "outputs": [],
   "source": []
  },
  {
   "cell_type": "markdown",
   "metadata": {},
   "source": [
    "# Make graph"
   ]
  },
  {
   "cell_type": "code",
   "execution_count": 15,
   "metadata": {},
   "outputs": [],
   "source": [
    "from pyvis.network import Network"
   ]
  },
  {
   "cell_type": "code",
   "execution_count": 16,
   "metadata": {},
   "outputs": [],
   "source": [
    "net = Network(notebook=True,\n",
    "             height='800px', width='1200px', \n",
    "             directed=True,\n",
    "             heading='Contradictions Surrounding the Lori Vallow Case')"
   ]
  },
  {
   "cell_type": "markdown",
   "metadata": {},
   "source": [
    "## Add nodes"
   ]
  },
  {
   "cell_type": "code",
   "execution_count": 17,
   "metadata": {},
   "outputs": [],
   "source": [
    "for ind,row  in node.iterrows():\n",
    "    net.add_node(n_id=row['index'],\n",
    "                 label=row['index'],\n",
    "                 group=row['group'],\n",
    "                 size=row['size'],\n",
    "                 title=row['title'],\n",
    "                 level=row['level']\n",
    "                        )"
   ]
  },
  {
   "cell_type": "markdown",
   "metadata": {},
   "source": [
    "## Add edges"
   ]
  },
  {
   "cell_type": "code",
   "execution_count": 18,
   "metadata": {},
   "outputs": [],
   "source": [
    "for ind,row in edge.iterrows():\n",
    "    net.add_edge(row['Short Question'],row['Short Answer'])"
   ]
  },
  {
   "cell_type": "code",
   "execution_count": null,
   "metadata": {},
   "outputs": [],
   "source": []
  },
  {
   "cell_type": "code",
   "execution_count": 19,
   "metadata": {},
   "outputs": [
    {
     "data": {
      "text/html": [
       "\n",
       "        <iframe\n",
       "            width=\"1200px\"\n",
       "            height=\"800px\"\n",
       "            src=\"index.html\"\n",
       "            frameborder=\"0\"\n",
       "            allowfullscreen\n",
       "            \n",
       "        ></iframe>\n",
       "        "
      ],
      "text/plain": [
       "<IPython.lib.display.IFrame at 0x26692d3b6c8>"
      ]
     },
     "execution_count": 19,
     "metadata": {},
     "output_type": "execute_result"
    }
   ],
   "source": [
    "net.show('index.html')\n"
   ]
  },
  {
   "cell_type": "code",
   "execution_count": 417,
   "metadata": {},
   "outputs": [],
   "source": [
    "net.save_graph('index.html')"
   ]
  },
  {
   "cell_type": "code",
   "execution_count": null,
   "metadata": {},
   "outputs": [],
   "source": []
  },
  {
   "cell_type": "code",
   "execution_count": null,
   "metadata": {},
   "outputs": [],
   "source": []
  },
  {
   "cell_type": "code",
   "execution_count": null,
   "metadata": {},
   "outputs": [],
   "source": []
  },
  {
   "cell_type": "code",
   "execution_count": null,
   "metadata": {},
   "outputs": [],
   "source": []
  },
  {
   "cell_type": "code",
   "execution_count": null,
   "metadata": {},
   "outputs": [],
   "source": []
  },
  {
   "cell_type": "code",
   "execution_count": null,
   "metadata": {},
   "outputs": [],
   "source": []
  }
 ],
 "metadata": {
  "kernelspec": {
   "display_name": "Python 3 (ipykernel)",
   "language": "python",
   "name": "python3"
  },
  "language_info": {
   "codemirror_mode": {
    "name": "ipython",
    "version": 3
   },
   "file_extension": ".py",
   "mimetype": "text/x-python",
   "name": "python",
   "nbconvert_exporter": "python",
   "pygments_lexer": "ipython3",
   "version": "3.7.6"
  },
  "toc": {
   "base_numbering": 1,
   "nav_menu": {},
   "number_sections": true,
   "sideBar": true,
   "skip_h1_title": false,
   "title_cell": "Table of Contents",
   "title_sidebar": "Contents",
   "toc_cell": false,
   "toc_position": {},
   "toc_section_display": true,
   "toc_window_display": false
  },
  "varInspector": {
   "cols": {
    "lenName": 16,
    "lenType": 16,
    "lenVar": 40
   },
   "kernels_config": {
    "python": {
     "delete_cmd_postfix": "",
     "delete_cmd_prefix": "del ",
     "library": "var_list.py",
     "varRefreshCmd": "print(var_dic_list())"
    },
    "r": {
     "delete_cmd_postfix": ") ",
     "delete_cmd_prefix": "rm(",
     "library": "var_list.r",
     "varRefreshCmd": "cat(var_dic_list()) "
    }
   },
   "types_to_exclude": [
    "module",
    "function",
    "builtin_function_or_method",
    "instance",
    "_Feature"
   ],
   "window_display": false
  }
 },
 "nbformat": 4,
 "nbformat_minor": 5
}
